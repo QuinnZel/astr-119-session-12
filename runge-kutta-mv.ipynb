{
 "cells": [
  {
   "cell_type": "code",
   "execution_count": 1,
   "id": "92fe9d98",
   "metadata": {},
   "outputs": [],
   "source": [
    "%matplotlib inline\n",
    "import matplotlib.pyplot as plt\n",
    "import numpy as np"
   ]
  },
  {
   "cell_type": "markdown",
   "id": "1666b1e0",
   "metadata": {},
   "source": [
    "# Create a notebook to perform runge-kutta integration for multiple coupled variables"
   ]
  },
  {
   "cell_type": "markdown",
   "id": "576a268f",
   "metadata": {},
   "source": [
    "# define our coupled derivatives to integrate"
   ]
  },
  {
   "cell_type": "code",
   "execution_count": 2,
   "id": "df45be0a",
   "metadata": {},
   "outputs": [],
   "source": [
    "def dydx(x,y):\n",
    "    #set the derivatives\n",
    "    # our equation is d*2y/dx*2 = -y\n",
    "    #so we can write\n",
    "    #dydx =z\n",
    "    #dzdx = -y\n",
    "\n",
    "    #we will set y = y[0]\n",
    "    #we will set z = y[1]\n",
    "\n",
    "    #declare an array\n",
    "    y_derivs = np.zeros(2)\n",
    "\n",
    "    #set dydx = z\n",
    "    y_derivs[0] = y[1]\n",
    "\n",
    "    #set dzdx = -y\n",
    "    y_derivs[1] = -1*y[0]\n",
    "\n",
    "    #here we have to return an array\n",
    "    return y_derivs"
   ]
  },
  {
   "cell_type": "markdown",
   "id": "2985f88e",
   "metadata": {},
   "source": [
    "# define 4th order RK method"
   ]
  },
  {
   "cell_type": "code",
   "execution_count": 3,
   "id": "70aa9f28",
   "metadata": {},
   "outputs": [],
   "source": [
    "def rk4_mv_core(dydx,xi,yi,nv,h):\n",
    "\n",
    "    #declare k? arrays\n",
    "    k1 = np.zeros(nv)\n",
    "    k2 = np.zeros(nv)\n",
    "    k3 = np.zeros(nv)\n",
    "    k4 = np.zeros(nv)\n",
    "\n",
    "    #define x at 1/2 step\n",
    "    x_ipoh = xi + 0.5*h\n",
    "\n",
    "    #define x at 1 step\n",
    "    x_ipo = xi + h\n",
    "\n",
    "    #declare a temp y array\n",
    "    y_temp = np.zeros(nv)\n",
    "\n",
    "    #get kl values\n",
    "    y_derivs = dydx(xi,yi)\n",
    "    k1[:] = h*y_derivs[:]\n",
    "\n",
    "    #get k2 values\n",
    "\n",
    "    y_temp[:] = yi[:] + 0.5*k1[:]\n",
    "    y_derivs = dydx(x_ipoh,y_temp)\n",
    "    k2[:] = h*y_derivs[:]\n",
    "    \n",
    "    #get k3 values\n",
    "\n",
    "    y_temp[:] = yi[:] + 0.5*k2[:]\n",
    "    y_derivs = dydx(x_ipoh,y_temp)\n",
    "    k3[:] = h*y_derivs[:]\n",
    "\n",
    "    #get k4 values\n",
    "\n",
    "    y_temp[:] = yi[:] + k3[:]\n",
    "    y_derivs = dydx(x_ipo,y_temp)\n",
    "    k4[:] = h*y_derivs[:]\n",
    "\n",
    "    #advance y by a step h\n",
    "    yipo = yi + (k1 + 2*k2 + 2*k3 + k4)/6.\n",
    "\n",
    "    return yipo"
   ]
  },
  {
   "cell_type": "markdown",
   "id": "485ae9c8",
   "metadata": {},
   "source": [
    "# Coupled ODE Solver"
   ]
  },
  {
   "cell_type": "markdown",
   "id": "eba0fe1c",
   "metadata": {},
   "source": [
    "# define an adaptive step sive driver for RK4"
   ]
  },
  {
   "cell_type": "code",
   "execution_count": 4,
   "id": "250fbfe5",
   "metadata": {},
   "outputs": [],
   "source": [
    "def rk4_mv_ad(dydx,x_i,y_i,nv,h,tol):\n",
    "\n",
    "    #define safety scale\n",
    "    SAFETY = 0.9\n",
    "    H_NEW_FAC = 2.0\n",
    "\n",
    "    #set a maximum number of iterations\n",
    "    imax = 10000\n",
    "\n",
    "    #set an iteration variable\n",
    "    i = 0\n",
    "\n",
    "    #create an error\n",
    "    Delta = np.full(nv,2*tol)\n",
    "\n",
    "    #remember the step\n",
    "    h_step = h\n",
    "\n",
    "    #adjust step\n",
    "    while(Delta.max()/tol-> 1.0):\n",
    "\n",
    "        #estimate our error by taking one step of size h\n",
    "\n",
    "        #vs. two steps of size h/2\n",
    "        y_2 = rk4_mv_core(dydx,x_i,y_i,nv,h_step)\n",
    "        y_1 = rk4_mv_core(dydx,x_i,y_i,nv,0.5*h_step)\n",
    "        y_11 = rk4_mv_core(dydx,x_i+0.5*h_step,y_1,nv,0.5*h_step)\n",
    "\n",
    " \n",
    "        #compute an error\n",
    "        Delta = np.fabs(y_2 - y_11) \n",
    "\n",
    "        #if the error is too large, take a smaller step\n",
    "        if(Delta.max()/tol > 1.0):\n",
    "\n",
    "            #our error is too large, decrease the step\n",
    "            h_step *= SAFETY * (Delta.max()/tol)**(-0.25)\n",
    "\n",
    "        #check iteration\n",
    "        if(i>=imax):\n",
    "            print(\"Too many iterations in rk4_mv_ad()\")\n",
    "            raise StopIteration(\"Ending after i = \",i)\n",
    "\n",
    "        #iterate\n",
    "        i+=1\n",
    "\n",
    "        #next time, try to take a bigger step\n",
    "        h_new = np.fmin(h_step * (Delta.max()/tol)**(-0.9), h_step*H_NEW_FAC)\n",
    "\n",
    "        #return the answer, a new step, and the step we actually took\n",
    "        return y_2, h_new, h_step"
   ]
  },
  {
   "cell_type": "markdown",
   "id": "c34da586",
   "metadata": {},
   "source": [
    "# Define a wrapper for RK4"
   ]
  },
  {
   "cell_type": "code",
   "execution_count": 5,
   "id": "7e030536",
   "metadata": {},
   "outputs": [],
   "source": [
    "def rk4_mv(dfdx,a,b,y_a,tol):\n",
    "\n",
    "    #dfdx is the derivative wrt x\n",
    "\n",
    "    #a is the lower bound\n",
    "\n",
    "    #b is the upper bound\n",
    "\n",
    "    #y_a are the boundary conditions\n",
    "\n",
    "    #tol is the tolerance for integrating y\n",
    "\n",
    "    #define our starting step\n",
    "    xi = a\n",
    "    yi = y_a.copy()\n",
    "\n",
    "    #an initial step size == make very small!\n",
    "    h = 1.0e-4 * (b-a)\n",
    "\n",
    "    #set a maximum number of iterations\n",
    "    imax = 10000\n",
    "\n",
    "    #set an iteration variable\n",
    "    i = 0\n",
    "\n",
    "    #set the number of coupled odes to the\n",
    "    #size of y_a\n",
    "    nv = len(y_a)\n",
    "    \n",
    "    #set the initial conditions \n",
    "\n",
    "    x = np.full(1,a)\n",
    "    y = np.full((1,nv),y_a)\n",
    "\n",
    "    #set a flag\n",
    "    flag = 1\n",
    "\n",
    "    #loop until we reach the right side\n",
    "    while(flag):\n",
    "\n",
    "        #calculate y_i+1\n",
    "        yi_new, h_new, h_step = rk4_mv_ad(dydx,xi,yi,nv,h,tol)\n",
    "\n",
    "        #update the step\n",
    "        h = h_new\n",
    "\n",
    "        #prevent an overshoot\n",
    "        if(xi+h_step>b):\n",
    "\n",
    "            #take a smaller step\n",
    "            h = b-xi\n",
    "\n",
    "            #recalculate y_i+1\n",
    "            yi_new, h_new, h_step = rk4_mv_ad(dydx,xi,yi,nv,h,tol)\n",
    "\n",
    "            #break\n",
    "            flag = 0\n",
    "        \n",
    "        #update values \n",
    "        xi += h_step\n",
    "        yi[:] = yi_new[:]\n",
    "\n",
    "        #add the step to the arrays\n",
    "        x = np.append(x,xi)\n",
    "        y_new = np.zeros((len(x),nv))\n",
    "        y_new[0:len(x)-1,:] = y\n",
    "        y_new[-1,:] = yi[:]\n",
    "        del y\n",
    "        y = y_new\n",
    "\n",
    "        #prevent too many iterations\n",
    "        if (i>=imax):\n",
    "\n",
    "            print (\"Maximum iterations reached.\")\n",
    "\n",
    "            raise StopIteration(\"Iteration number = \",i)\n",
    "\n",
    "        #iterate\n",
    "        i += 1\n",
    "\n",
    "        #output some information\n",
    "        s = \"i = %3d\\tx = %9.8f\\th = %9.8f\\tb=%9.8f\" % (i,xi, h_step, b)\n",
    "        print(s)\n",
    "        \n",
    "        #break if new xi is == b\n",
    "        if(xi==b):\n",
    "            flag = 0\n",
    "\n",
    "    #return the answer\n",
    "    return x,y"
   ]
  },
  {
   "cell_type": "markdown",
   "id": "4e85b241",
   "metadata": {},
   "source": [
    "# Perform the integration"
   ]
  },
  {
   "cell_type": "code",
   "execution_count": 6,
   "id": "e70ec26c",
   "metadata": {},
   "outputs": [
    {
     "name": "stdout",
     "output_type": "stream",
     "text": [
      "i =   1\tx = 0.00062832\th = 0.00062832\tb=6.28318531\n",
      "i =   2\tx = 0.00188496\th = 0.00125664\tb=6.28318531\n",
      "i =   3\tx = 0.00439823\th = 0.00251327\tb=6.28318531\n",
      "i =   4\tx = 0.00942478\th = 0.00502655\tb=6.28318531\n",
      "i =   5\tx = 0.01947787\th = 0.01005310\tb=6.28318531\n",
      "i =   6\tx = 0.03958407\th = 0.02010619\tb=6.28318531\n",
      "i =   7\tx = 0.07979645\th = 0.04021239\tb=6.28318531\n",
      "i =   8\tx = 0.16022123\th = 0.08042477\tb=6.28318531\n",
      "i =   9\tx = 0.32107077\th = 0.16084954\tb=6.28318531\n",
      "i =  10\tx = 0.46816761\th = 0.14709684\tb=6.28318531\n",
      "i =  11\tx = 0.55240352\th = 0.08423590\tb=6.28318531\n",
      "i =  12\tx = 0.72087532\th = 0.16847181\tb=6.28318531\n",
      "i =  13\tx = 0.87828819\th = 0.15741287\tb=6.28318531\n",
      "i =  14\tx = 0.99010865\th = 0.11182046\tb=6.28318531\n",
      "i =  15\tx = 1.13339227\th = 0.14328362\tb=6.28318531\n",
      "i =  16\tx = 1.17554701\th = 0.04215475\tb=6.28318531\n",
      "i =  17\tx = 1.25985651\th = 0.08430949\tb=6.28318531\n",
      "i =  18\tx = 1.40955970\th = 0.14970319\tb=6.28318531\n",
      "i =  19\tx = 1.55209634\th = 0.14253664\tb=6.28318531\n",
      "i =  20\tx = 1.68377132\th = 0.13167498\tb=6.28318531\n",
      "i =  21\tx = 1.69570017\th = 0.01192885\tb=6.28318531\n",
      "i =  22\tx = 1.71955786\th = 0.02385769\tb=6.28318531\n",
      "i =  23\tx = 1.76727324\th = 0.04771538\tb=6.28318531\n",
      "i =  24\tx = 1.86270401\th = 0.09543077\tb=6.28318531\n",
      "i =  25\tx = 2.01603088\th = 0.15332687\tb=6.28318531\n",
      "i =  26\tx = 2.11788642\th = 0.10185555\tb=6.28318531\n",
      "i =  27\tx = 2.26809206\th = 0.15020563\tb=6.28318531\n",
      "i =  28\tx = 2.34137969\th = 0.07328763\tb=6.28318531\n",
      "i =  29\tx = 2.48795495\th = 0.14657526\tb=6.28318531\n",
      "i =  30\tx = 2.62066483\th = 0.13270988\tb=6.28318531\n",
      "i =  31\tx = 2.63456519\th = 0.01390036\tb=6.28318531\n",
      "i =  32\tx = 2.66236592\th = 0.02780073\tb=6.28318531\n",
      "i =  33\tx = 2.71796738\th = 0.05560146\tb=6.28318531\n",
      "i =  34\tx = 2.82917030\th = 0.11120292\tb=6.28318531\n",
      "i =  35\tx = 2.97000892\th = 0.14083863\tb=6.28318531\n",
      "i =  36\tx = 3.00973914\th = 0.03973022\tb=6.28318531\n",
      "i =  37\tx = 3.08919958\th = 0.07946043\tb=6.28318531\n",
      "i =  38\tx = 3.24812044\th = 0.15892087\tb=6.28318531\n",
      "i =  39\tx = 3.39794904\th = 0.14982860\tb=6.28318531\n",
      "i =  40\tx = 3.44092602\th = 0.04297697\tb=6.28318531\n",
      "i =  41\tx = 3.52687996\th = 0.08595395\tb=6.28318531\n",
      "i =  42\tx = 3.67912441\th = 0.15224445\tb=6.28318531\n",
      "i =  43\tx = 3.82279001\th = 0.14366560\tb=6.28318531\n",
      "i =  44\tx = 3.95370903\th = 0.13091903\tb=6.28318531\n",
      "i =  45\tx = 3.96500079\th = 0.01129176\tb=6.28318531\n",
      "i =  46\tx = 3.98758432\th = 0.02258352\tb=6.28318531\n",
      "i =  47\tx = 4.03275136\th = 0.04516705\tb=6.28318531\n",
      "i =  48\tx = 4.12308546\th = 0.09033409\tb=6.28318531\n",
      "i =  49\tx = 4.27216607\th = 0.14908061\tb=6.28318531\n",
      "i =  50\tx = 4.38123230\th = 0.10906623\tb=6.28318531\n",
      "i =  51\tx = 4.52924460\th = 0.14801230\tb=6.28318531\n",
      "i =  52\tx = 4.58278774\th = 0.05354314\tb=6.28318531\n",
      "i =  53\tx = 4.68987401\th = 0.10708628\tb=6.28318531\n",
      "i =  54\tx = 4.83639557\th = 0.14652156\tb=6.28318531\n",
      "i =  55\tx = 4.89098699\th = 0.05459142\tb=6.28318531\n",
      "i =  56\tx = 5.00016982\th = 0.10918283\tb=6.28318531\n",
      "i =  57\tx = 5.14075323\th = 0.14058341\tb=6.28318531\n",
      "i =  58\tx = 5.18284140\th = 0.04208817\tb=6.28318531\n",
      "i =  59\tx = 5.26701774\th = 0.08417634\tb=6.28318531\n",
      "i =  60\tx = 5.41697147\th = 0.14995372\tb=6.28318531\n",
      "i =  61\tx = 5.56142835\th = 0.14445688\tb=6.28318531\n",
      "i =  62\tx = 5.69635694\th = 0.13492860\tb=6.28318531\n",
      "i =  63\tx = 5.70927508\th = 0.01291814\tb=6.28318531\n",
      "i =  64\tx = 5.73511135\th = 0.02583627\tb=6.28318531\n",
      "i =  65\tx = 5.78678390\th = 0.05167255\tb=6.28318531\n",
      "i =  66\tx = 5.89012900\th = 0.10334510\tb=6.28318531\n",
      "i =  67\tx = 6.03929935\th = 0.14917036\tb=6.28318531\n",
      "i =  68\tx = 6.10667688\th = 0.06737753\tb=6.28318531\n",
      "i =  69\tx = 6.24143193\th = 0.13475506\tb=6.28318531\n",
      "i =  70\tx = 6.28318531\th = 0.04175337\tb=6.28318531\n"
     ]
    }
   ],
   "source": [
    "a = 0.0\n",
    "b = 2.0 * np.pi\n",
    "\n",
    "y_0 = np.zeros(2)\n",
    "y_0[0] = 0.0\n",
    "y_0[1] = 1.0\n",
    "nv = 2\n",
    "\n",
    "tolerance = 1.0e-6\n",
    "\n",
    "#perform the integration\n",
    "x,y = rk4_mv(dydx,a,b,y_0,tolerance)"
   ]
  },
  {
   "cell_type": "markdown",
   "id": "90edec5c",
   "metadata": {},
   "source": [
    "# Plot the result"
   ]
  },
  {
   "cell_type": "code",
   "execution_count": 7,
   "id": "8eba30de",
   "metadata": {},
   "outputs": [
    {
     "data": {
      "text/plain": [
       "<matplotlib.legend.Legend at 0x2a2d8c88e20>"
      ]
     },
     "execution_count": 7,
     "metadata": {},
     "output_type": "execute_result"
    },
    {
     "data": {
      "image/png": "[encoded data removed]",
      "text/plain": [
       "<Figure size 432x288 with 1 Axes>"
      ]
     },
     "metadata": {
      "needs_background": "light"
     },
     "output_type": "display_data"
    }
   ],
   "source": [
    "plt.plot(x,y[:,0],'o',label='y(x)')\n",
    "plt.plot(x,y[:,1],'o',label='dydx(x)')\n",
    "xx = np.linspace(0,2.0*np.pi,1000)\n",
    "plt.plot(xx,np.sin(xx),label='sin(x)')\n",
    "plt.plot(xx,np.cos(xx),label='cos(x)')\n",
    "plt.xlabel('x')\n",
    "plt.ylabel('y, dy/dx')\n",
    "plt.legend(frameon=False)"
   ]
  },
  {
   "cell_type": "markdown",
   "id": "749e60dd",
   "metadata": {},
   "source": [
    "# Plot the error"
   ]
  },
  {
   "cell_type": "code",
   "execution_count": 8,
   "id": "cbf1f523",
   "metadata": {},
   "outputs": [
    {
     "data": {
      "text/plain": [
       "<matplotlib.legend.Legend at 0x2a2d8db7dc0>"
      ]
     },
     "execution_count": 8,
     "metadata": {},
     "output_type": "execute_result"
    },
    {
     "data": {
      "image/png": "[encoded data removed]",
      "text/plain": [
       "<Figure size 432x288 with 1 Axes>"
      ]
     },
     "metadata": {
      "needs_background": "light"
     },
     "output_type": "display_data"
    }
   ],
   "source": [
    "sine = np.sin(x)\n",
    "cosine = np.cos(x)\n",
    "\n",
    "y_error = (y[:,0]-sine)\n",
    "dydx_error = (y[:,1]-cosine)\n",
    "\n",
    "plt.plot(x, y_error, label=\"y(x) Error\")\n",
    "plt.plot(x, dydx_error, label=\"dydx(x) Error\")\n",
    "plt.legend(frameon=False)"
   ]
  },
  {
   "cell_type": "code",
   "execution_count": null,
   "id": "00cbf32f",
   "metadata": {},
   "outputs": [],
   "source": []
  }
 ],
 "metadata": {
  "kernelspec": {
   "display_name": "Python 3 (ipykernel)",
   "language": "python",
   "name": "python3"
  },
  "language_info": {
   "codemirror_mode": {
    "name": "ipython",
    "version": 3
   },
   "file_extension": ".py",
   "mimetype": "text/x-python",
   "name": "python",
   "nbconvert_exporter": "python",
   "pygments_lexer": "ipython3",
   "version": "3.9.7"
  }
 },
 "nbformat": 4,
 "nbformat_minor": 5
}
